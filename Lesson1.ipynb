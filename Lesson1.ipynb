{
 "cells": [
  {
   "cell_type": "code",
   "execution_count": 70,
   "metadata": {},
   "outputs": [],
   "source": [
    "#Print statements\n",
    "\n",
    "print('Hello world I know how to python!!!') \n"
   ]
  },
  {
   "cell_type": "code",
   "execution_count": 97,
   "metadata": {},
   "outputs": [
    {
     "name": "stdout",
     "output_type": "stream",
     "text": [
      "Hello Python world!\n"
     ]
    }
   ],
   "source": [
    "#Variables - contains a value\n",
    "\n",
    "message1 = \"Hello Python world!\"\n",
    "print(message1)\n",
    "\n",
    "#Note: Variables can only contain letters, numbers, and underscores. \n",
    "#Variable names can start with a letter or an underscore, but can not start with a number."
   ]
  },
  {
   "cell_type": "code",
   "execution_count": 98,
   "metadata": {},
   "outputs": [
    {
     "ename": "SyntaxError",
     "evalue": "invalid syntax (<ipython-input-98-007581ebfc70>, line 3)",
     "output_type": "error",
     "traceback": [
      "\u001b[0;36m  File \u001b[0;32m\"<ipython-input-98-007581ebfc70>\"\u001b[0;36m, line \u001b[0;32m3\u001b[0m\n\u001b[0;31m    mess age = \"Hello Python world!\"\u001b[0m\n\u001b[0m           ^\u001b[0m\n\u001b[0;31mSyntaxError\u001b[0m\u001b[0;31m:\u001b[0m invalid syntax\n"
     ]
    }
   ],
   "source": [
    "#Put a space in variable name\n",
    "\n",
    "mess age = \"Hello Python world!\"\n",
    "print(mess age)\n"
   ]
  },
  {
   "cell_type": "code",
   "execution_count": 2,
   "metadata": {
    "collapsed": true
   },
   "outputs": [
    {
     "ename": "SyntaxError",
     "evalue": "invalid syntax (<ipython-input-2-668d7dfaf46b>, line 3)",
     "output_type": "error",
     "traceback": [
      "\u001b[0;36m  File \u001b[0;32m\"<ipython-input-2-668d7dfaf46b>\"\u001b[0;36m, line \u001b[0;32m3\u001b[0m\n\u001b[0;31m    1message = \"Hello Python world!\"\u001b[0m\n\u001b[0m           ^\u001b[0m\n\u001b[0;31mSyntaxError\u001b[0m\u001b[0;31m:\u001b[0m invalid syntax\n"
     ]
    }
   ],
   "source": [
    "#Start with number in variable name\n",
    "\n",
    "1message = \"Hello Python world!\"\n",
    "print(1message)"
   ]
  },
  {
   "cell_type": "code",
   "execution_count": 74,
   "metadata": {},
   "outputs": [
    {
     "ename": "NameError",
     "evalue": "name 'mesage' is not defined",
     "output_type": "error",
     "traceback": [
      "\u001b[0;31m---------------------------------------------------------------------------\u001b[0m",
      "\u001b[0;31mNameError\u001b[0m                                 Traceback (most recent call last)",
      "\u001b[0;32m<ipython-input-74-ee53a8d50829>\u001b[0m in \u001b[0;36m<module>\u001b[0;34m()\u001b[0m\n\u001b[1;32m      2\u001b[0m \u001b[0;34m\u001b[0m\u001b[0m\n\u001b[1;32m      3\u001b[0m \u001b[0mmessage\u001b[0m \u001b[0;34m=\u001b[0m \u001b[0;34m\"Hello Python world!\"\u001b[0m\u001b[0;34m\u001b[0m\u001b[0m\n\u001b[0;32m----> 4\u001b[0;31m \u001b[0mprint\u001b[0m\u001b[0;34m(\u001b[0m\u001b[0mmesage\u001b[0m\u001b[0;34m)\u001b[0m\u001b[0;34m\u001b[0m\u001b[0m\n\u001b[0m",
      "\u001b[0;31mNameError\u001b[0m: name 'mesage' is not defined"
     ]
    }
   ],
   "source": [
    "#What is wrong with this statement\n",
    "\n",
    "message = \"Hello Python world!\"\n",
    "print(mesage)"
   ]
  },
  {
   "cell_type": "code",
   "execution_count": 78,
   "metadata": {},
   "outputs": [
    {
     "name": "stdout",
     "output_type": "stream",
     "text": [
      "hello \"I\" am \"adam\" \n"
     ]
    }
   ],
   "source": [
    "#A string is a set of characters\n",
    "\n",
    "string = \"I am a string!\"\n",
    "string2 = 'I am a string too!'\n",
    "\n",
    "s = 'hello \"I\" am \"adam\" '\n",
    "\n",
    "print(s)\n",
    "\n",
    "#QUESTION: Can you think of any reasons why you would use a single quote or a double quote"
   ]
  },
  {
   "cell_type": "code",
   "execution_count": 79,
   "metadata": {},
   "outputs": [
    {
     "name": "stdout",
     "output_type": "stream",
     "text": [
      "acgt\n",
      "Acgt\n",
      "ACGT\n",
      "acgt\n"
     ]
    }
   ],
   "source": [
    "#Changing the case of a string\n",
    "\n",
    "nucleotides = 'acgt'\n",
    "\n",
    "print(nucleotides)\n",
    "print(nucleotides.title())\n",
    "print(nucleotides.upper())\n",
    "\n",
    "nucleotides = 'ACGT'\n",
    "print(nucleotides.lower())"
   ]
  },
  {
   "cell_type": "code",
   "execution_count": 80,
   "metadata": {},
   "outputs": [
    {
     "name": "stdout",
     "output_type": "stream",
     "text": [
      "Ada Lovelace\n",
      "ADA LOVELACE\n",
      "ada lovelace\n"
     ]
    }
   ],
   "source": [
    "#Combining Strings\n",
    "\n",
    "first_name = 'ada'\n",
    "last_name = 'lovelace'\n",
    "\n",
    "full_name = first_name + ' ' + last_name\n",
    "\n",
    "print(full_name.title())\n",
    "print(full_name.upper())\n",
    "print(full_name.lower())"
   ]
  },
  {
   "cell_type": "code",
   "execution_count": 18,
   "metadata": {
    "collapsed": true
   },
   "outputs": [
    {
     "name": "stdout",
     "output_type": "stream",
     "text": [
      "Hello all!\n",
      "\tHello all!\n",
      "Hello \n",
      "all!\n"
     ]
    }
   ],
   "source": [
    "#Whitespace\n",
    "\n",
    "#spaces, tabs and newline characters - these are types of characters\n",
    "#that the computer knows about but you don't necessarily see as the user\n",
    "\n",
    "print(\"Hello all!\") #space\n",
    "print(\"\\tHello all!\") #tab\n",
    "print(\"Hello \\nall!\") #new line\n"
   ]
  },
  {
   "cell_type": "code",
   "execution_count": 85,
   "metadata": {},
   "outputs": [
    {
     "name": "stdout",
     "output_type": "stream",
     "text": [
      "Reyka Jayasinghe\n"
     ]
    }
   ],
   "source": [
    "#Removing whitespace\n",
    "\n",
    "name = '\\tReyka'\n",
    "\n",
    "#print(name)\n",
    "#print(name.strip())\n",
    "\n",
    "name = '\\tReyka Jayasinghe'\n",
    "print(name.strip())\n",
    "\n",
    "#You can use name.lstrip() or name.rstrip() to remove white space from the\n",
    "#left or right side, respectively.\n",
    "\n"
   ]
  },
  {
   "cell_type": "code",
   "execution_count": 88,
   "metadata": {},
   "outputs": [
    {
     "name": "stdout",
     "output_type": "stream",
     "text": [
      "3\n",
      "-1\n",
      "6\n",
      "1.5\n",
      "9\n",
      "1\n",
      "14\n",
      "20\n"
     ]
    }
   ],
   "source": [
    "#Numbers - numerical data\n",
    "\n",
    "print(1+2) #addition\n",
    "print(1-2) #subtraction\n",
    "print(3*2) #multiplication\n",
    "print(3/2) #division\n",
    "print(3**2) #exponent\n",
    "print(3%2) #modular\n",
    "\n",
    "#Change order of operations by using parentheses\n",
    "standard_order = 2+3*4\n",
    "print(standard_order)\n",
    "\n",
    "my_order = (2+3)*4\n",
    "print(my_order)"
   ]
  },
  {
   "cell_type": "code",
   "execution_count": 87,
   "metadata": {},
   "outputs": [
    {
     "name": "stdout",
     "output_type": "stream",
     "text": [
      "0.2\n",
      "0.30000000000000004\n"
     ]
    }
   ],
   "source": [
    "#Floating-Point numbers - any number with a decimal point \n",
    "print(0.1+0.1)\n",
    "print(0.1+0.2)"
   ]
  },
  {
   "cell_type": "code",
   "execution_count": null,
   "metadata": {},
   "outputs": [],
   "source": [
    "#COMMENTING\n",
    "\n",
    "#What makes a good comment?\n",
    "#It is short and to the point, but a complete thought. Most comments should be written in complete sentences.\n",
    "#It explains your thinking, so that when you return to the code later you will understand how you were approaching the problem.\n",
    "#It explains your thinking, so that others who work with your code will understand your overall approach to a problem.\n",
    "#It explains particularly difficult sections of code in detail.\n",
    "\n"
   ]
  },
  {
   "cell_type": "code",
   "execution_count": 89,
   "metadata": {},
   "outputs": [
    {
     "name": "stdout",
     "output_type": "stream",
     "text": [
      "20\n"
     ]
    }
   ],
   "source": [
    "#CHALLENGE\n",
    "#Store width (5) and height (4) in variables and multipy them \n",
    "#to get the area and print the final result.\n",
    "\n",
    "w = 5\n",
    "h = 4\n",
    "print(w*h)\n",
    "\n",
    "OR\n",
    "a = w*h\n",
    "print(a)"
   ]
  },
  {
   "cell_type": "code",
   "execution_count": 38,
   "metadata": {
    "collapsed": true
   },
   "outputs": [
    {
     "name": "stdout",
     "output_type": "stream",
     "text": [
      "BRCA1\tPatient1\n",
      "\n"
     ]
    }
   ],
   "source": []
  },
  {
   "cell_type": "code",
   "execution_count": 90,
   "metadata": {},
   "outputs": [
    {
     "name": "stdout",
     "output_type": "stream",
     "text": [
      "['ATM', 'BRCA1', 'TP53']\n",
      "[1, 'b']\n"
     ]
    }
   ],
   "source": [
    "#Lists - a collection of items that is stored in a variable\n",
    "\n",
    "genes = ['ATM','BRCA1','TP53']#Square brackets define a list\n",
    "print(genes)\n",
    "values = [1,'b']\n",
    "print(values)"
   ]
  },
  {
   "cell_type": "code",
   "execution_count": 95,
   "metadata": {},
   "outputs": [
    {
     "name": "stdout",
     "output_type": "stream",
     "text": [
      "Gene name is: ATM\n",
      "Gene name is: BRCA1\n",
      "Gene name is: TP53\n"
     ]
    }
   ],
   "source": [
    "#Print each list element separately using a loop\n",
    "#for tells python to get ready for a loop\n",
    "#genename is a temporary placeholder variable,  \n",
    "#This is the variable that Python will place each item \n",
    "#in the list into, one at a time.\n",
    "#\n",
    "genes = ['ATM','BRCA1','TP53']\n",
    "for genename in genes:\n",
    "    V = \"Gene name is: \" + genename\n",
    "    print(V)"
   ]
  },
  {
   "cell_type": "code",
   "execution_count": 50,
   "metadata": {
    "collapsed": true
   },
   "outputs": [
    {
     "name": "stdout",
     "output_type": "stream",
     "text": [
      "ATM\n"
     ]
    }
   ],
   "source": [
    "#Print only the first element of a list\n",
    "genes = ['ATM','BRCA1','TP53']\n",
    "\n",
    "#Items in a list are identified by their position in the list, \n",
    "#starting with zero. \n",
    "gene = genes[0]\n",
    "print(gene)"
   ]
  },
  {
   "cell_type": "code",
   "execution_count": 96,
   "metadata": {
    "collapsed": true
   },
   "outputs": [
    {
     "ename": "IndexError",
     "evalue": "list index out of range",
     "output_type": "error",
     "traceback": [
      "\u001b[0;31m---------------------------------------------------------------------------\u001b[0m",
      "\u001b[0;31mIndexError\u001b[0m                                Traceback (most recent call last)",
      "\u001b[0;32m<ipython-input-96-a44b1e42c4bd>\u001b[0m in \u001b[0;36m<module>\u001b[0;34m()\u001b[0m\n\u001b[1;32m      2\u001b[0m \u001b[0mgenes\u001b[0m \u001b[0;34m=\u001b[0m \u001b[0;34m[\u001b[0m\u001b[0;34m'ATM'\u001b[0m\u001b[0;34m,\u001b[0m\u001b[0;34m'BRCA1'\u001b[0m\u001b[0;34m,\u001b[0m\u001b[0;34m'TP53'\u001b[0m\u001b[0;34m]\u001b[0m\u001b[0;34m\u001b[0m\u001b[0m\n\u001b[1;32m      3\u001b[0m \u001b[0;34m\u001b[0m\u001b[0m\n\u001b[0;32m----> 4\u001b[0;31m \u001b[0mgene\u001b[0m \u001b[0;34m=\u001b[0m \u001b[0mgenes\u001b[0m\u001b[0;34m[\u001b[0m\u001b[0;34m-\u001b[0m\u001b[0;36m4\u001b[0m\u001b[0;34m]\u001b[0m\u001b[0;34m\u001b[0m\u001b[0m\n\u001b[0m\u001b[1;32m      5\u001b[0m \u001b[0mprint\u001b[0m\u001b[0;34m(\u001b[0m\u001b[0mgene\u001b[0m\u001b[0;34m)\u001b[0m\u001b[0;34m\u001b[0m\u001b[0m\n\u001b[1;32m      6\u001b[0m \u001b[0;34m\u001b[0m\u001b[0m\n",
      "\u001b[0;31mIndexError\u001b[0m: list index out of range"
     ]
    }
   ],
   "source": [
    "#Access the last element of a list\n",
    "genes = ['ATM','BRCA1','TP53']\n",
    "\n",
    "gene = genes[-4]\n",
    "print(gene)\n",
    "\n",
    "#Use -2 to access the second to last element of the list\n",
    "#QUESTION: What happens if you enter a negative number larger than the length of the list?"
   ]
  },
  {
   "cell_type": "code",
   "execution_count": 60,
   "metadata": {},
   "outputs": [
    {
     "name": "stdout",
     "output_type": "stream",
     "text": [
      "Input sequence is: ATGGCG\n",
      " nucleotide length is 6\n",
      "Input sequence is: ATGGAT\n",
      " nucleotide length is 6\n",
      "Input sequence is: ATGGATTAC\n",
      " nucleotide length is 9\n",
      "Finished input sequences!\n"
     ]
    }
   ],
   "source": [
    "#Understanding loop structure\n",
    "\n",
    "sequences= ['ATGGCG','ATGGAT','ATGGATTAC']\n",
    "for sequence in sequences:\n",
    "    print(\"Input sequence is: \" + sequence)\n",
    "    seq_length = len(sequence) #variable seq_length stores a number\n",
    "    print(\" nucleotide length is \" + str(seq_length)) #turns a number into a string to print\n",
    "    \n",
    "print(\"Finished input sequences!\")\n",
    "\n",
    "#why did the last line only print once?"
   ]
  },
  {
   "cell_type": "code",
   "execution_count": 64,
   "metadata": {},
   "outputs": [
    {
     "name": "stdout",
     "output_type": "stream",
     "text": [
      "Starting seq:ATGGCG\n",
      "Ending seq  :MGCG\n",
      "Starting seq:ATGGAT\n",
      "Ending seq  :MGAT\n",
      "Starting seq:ATGGATTAC\n",
      "Ending seq  :MGATTAC\n",
      "Finished input sequences!\n"
     ]
    }
   ],
   "source": [
    "#Replacement\n",
    "\n",
    "sequences= ['ATGGCG','ATGGAT','ATGGATTAC']\n",
    "for sequence in sequences:\n",
    "    print(\"Starting seq:\" + sequence)\n",
    "    edited_sequence = sequence.replace(\"ATG\",\"M\")\n",
    "    print(\"Ending seq  :\" + edited_sequence) \n",
    "    \n",
    "print(\"Finished input sequences!\")\n",
    "\n",
    "#why did the last line only print once?"
   ]
  },
  {
   "cell_type": "code",
   "execution_count": 68,
   "metadata": {
    "collapsed": true
   },
   "outputs": [
    {
     "name": "stdout",
     "output_type": "stream",
     "text": [
      "24\n",
      "2\n"
     ]
    }
   ],
   "source": [
    "#Calculate GC and AT DNA content in this sequence\n",
    "\n",
    "sequence = \"ACTGATCGATTACGTATAGTATTTGCTATCATACATATATATCGATGCGTTCAT\"\n",
    "\n",
    "print(str(sequence.find('GC')))\n",
    "\n",
    "#What happens if a sequence cannot be found?\n",
    "\n",
    "#We can check using count!\n",
    "print(str(sequence.count('GC')))\n"
   ]
  },
  {
   "cell_type": "code",
   "execution_count": null,
   "metadata": {},
   "outputs": [],
   "source": [
    "#Challenges\n",
    "\n",
    "Here's a short DNA sequence:\n",
    "\n",
    "ACTGATCGATTACGTATAGTATTTGCTATCATACATATATATCGATGCGTTCAT\n",
    "Write a program that will print the complement of this sequence. \n",
    "To find the complement we replace each base with its pair: \n",
    "A with T, T with A, C with G and G with C."
   ]
  },
  {
   "cell_type": "code",
   "execution_count": null,
   "metadata": {},
   "outputs": [],
   "source": [
    "RESTRICTION FRAGMENT LENGTHS\n",
    "\n",
    "Here's a short DNA sequence:\n",
    "\n",
    "ACTGATCGATTACGTATAGTAGAATTCTATCATACATATATATCGATGCGTTCAT\n",
    "\n",
    "The sequence contains a recognition site for the EcoRI restriction enzyme, which cuts at the motif G*AATTC (the position of the cut is indicated by an asterisk). Write a program which will calculate the size of the two fragments that will be produced when the DNA sequence is digested with EcoRI."
   ]
  },
  {
   "cell_type": "code",
   "execution_count": null,
   "metadata": {},
   "outputs": [],
   "source": [
    "SPLICING OUT INTRONS, PART ONE\n",
    "\n",
    "Here's a short section of genomic DNA:\n",
    "\n",
    "ATCGATCGATCGATCGACTGACTAGTCATAGCTATGCATGTAGCTACTCGATCGATCGATCGATCGATCGATCGATCGATCGATCATGCTATCATCGATCGATATCGATGCATCGACTACTAT\n",
    "It comprises two exons and an intron. The first exon runs from the start of the sequence to base number 63 (starting counting from zero), and the second exon runs from base 91 (also counting from zero) to the end of the sequence. Write a program that will print just the coding regions of the DNA sequence.\n"
   ]
  },
  {
   "cell_type": "code",
   "execution_count": null,
   "metadata": {},
   "outputs": [],
   "source": [
    "SPLICING OUT INTRONS, PART TWO\n",
    "\n",
    "Using the data from part one, write a program that will calculate what percentage of the DNA sequence is coding.\n",
    "\n",
    "Reminder: if you're using Python 2 rather than Python 3, include this line at the top of your program: from future import division\n"
   ]
  },
  {
   "cell_type": "code",
   "execution_count": null,
   "metadata": {},
   "outputs": [],
   "source": [
    "SPLICING OUT INTRONS, PART THREE\n",
    "\n",
    "Using the data from part one, write a program that will print out the original genomic DNA sequence with coding bases in uppercase and non-coding bases in lowercase."
   ]
  }
 ],
 "metadata": {
  "kernelspec": {
   "display_name": "Python 3",
   "language": "python",
   "name": "python3"
  },
  "language_info": {
   "codemirror_mode": {
    "name": "ipython",
    "version": 3
   },
   "file_extension": ".py",
   "mimetype": "text/x-python",
   "name": "python",
   "nbconvert_exporter": "python",
   "pygments_lexer": "ipython3",
   "version": "3.6.1"
  }
 },
 "nbformat": 4,
 "nbformat_minor": 2
}
